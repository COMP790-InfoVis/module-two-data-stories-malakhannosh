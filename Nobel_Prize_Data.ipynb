{
 "cells": [
  {
   "cell_type": "markdown",
   "metadata": {},
   "source": [
    "# Who is winning the Nobel Peace Prize?"
   ]
  },
  {
   "cell_type": "markdown",
   "metadata": {},
   "source": [
    "<h3>This story consists of visualizations that highlight different aspects of Nobel Prize winners' demographics.</h3>\n",
    "\n",
    "The dataset used (nobel_final.csv) was sourced from [Kaggle](https://www.kaggle.com/datasets/bahramjannesarr/nobel-prize-from-1901-till-2020)."
   ]
  },
  {
   "cell_type": "code",
   "execution_count": null,
   "metadata": {},
   "outputs": [],
   "source": [
    "import pandas as pd\n",
    "\n",
    "data= pd.read_csv(\"nobel_final.csv\")\n",
    "data.head()"
   ]
  },
  {
   "cell_type": "markdown",
   "metadata": {},
   "source": [
    "<h2>Visualization 1</h2>\n",
    "\n",
    "This visualization makes use of Altair to categorize the number of Nobel Prizes awarded in any category each year from 1901 to 2019. This visualization gives context as to the quantity of people who have won Nobel Prizes, whose demographics are investigated in the next two visualizations. There is a general upward trend in the number of prizes awarded, but not by a significant increase."
   ]
  },
  {
   "cell_type": "code",
   "execution_count": null,
   "metadata": {},
   "outputs": [],
   "source": [
    "import altair as alt\n",
    "\n",
    "prizes = data['year'].value_counts().reset_index()\n",
    "prizes.columns = ['year', 'count']\n",
    "\n",
    "alt.Chart(prizes).mark_line().encode(\n",
    "    x=alt.X('year:N', axis=alt.Axis(title='Year')),\n",
    "    y=alt.Y('count:Q', axis=alt.Axis(title='Number of Winners'))\n",
    ").properties(title='Number of Nobel Prize Winners Each Year')"
   ]
  },
  {
   "cell_type": "markdown",
   "metadata": {},
   "source": [
    "<h2>Visualization 2</h2>\n",
    "\n",
    "This visualization is a scatter plot made using Tableua. The plot depicts the age of every Nobel Prize Winner when they recieved the Nobel Prize between 1901 and 2019. This visualization shows that these awards are given to people of largely varying ages with a slight increase in recent years."
   ]
  },
  {
   "cell_type": "markdown",
   "metadata": {},
   "source": [
    "<img src=\"ScatterPlot.jpg\" alt=\"ScatterPlot\" width=\"700\"/>"
   ]
  },
  {
   "cell_type": "markdown",
   "metadata": {},
   "source": [
    "<h2>Visualization 3</h2>\n",
    "\n",
    "This visualization is a bar chart that was drawn on an iPad. The bar chart shows how many Nobel Prizes have been awarded to males and how many have been awarded to females between 1901 and 2019. The large difference seen in this chart is very significant as there was not this large of a disparity in age as seen in the above visualization."
   ]
  },
  {
   "cell_type": "markdown",
   "metadata": {},
   "source": [
    "<img src=\"BarChart.jpg\" alt=\"BarChart\" width=\"400\"/>"
   ]
  }
 ],
 "metadata": {
  "kernelspec": {
   "display_name": "Python 3",
   "language": "python",
   "name": "python3"
  },
  "language_info": {
   "codemirror_mode": {
    "name": "ipython",
    "version": 3
   },
   "file_extension": ".py",
   "mimetype": "text/x-python",
   "name": "python",
   "nbconvert_exporter": "python",
   "pygments_lexer": "ipython3",
   "version": "3.9.12"
  }
 },
 "nbformat": 4,
 "nbformat_minor": 2
}
